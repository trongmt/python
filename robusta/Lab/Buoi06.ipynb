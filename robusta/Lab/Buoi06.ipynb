{
 "cells": [
  {
   "cell_type": "code",
   "execution_count": 4,
   "metadata": {},
   "outputs": [
    {
     "name": "stdout",
     "output_type": "stream",
     "text": [
      "__builtins__\n",
      "__cached__\n",
      "__doc__\n",
      "__file__\n",
      "__loader__\n",
      "__name__\n",
      "__package__\n",
      "__spec__\n"
     ]
    }
   ],
   "source": [
    "import calculation as c\n",
    "packaged = dir(c)\n",
    "\n",
    "for i in packaged:\n",
    "    print(i)"
   ]
  },
  {
   "cell_type": "code",
   "execution_count": 25,
   "metadata": {},
   "outputs": [
    {
     "name": "stdout",
     "output_type": "stream",
     "text": [
      "[138, 302, 261]\n"
     ]
    }
   ],
   "source": [
    "import random\n",
    "lists = []\n",
    "def random_number_gererator(input):\n",
    "    for i in range(0,input):\n",
    "        e = random.randint(0,1000)\n",
    "        # print(e)\n",
    "        lists.append(e)\n",
    "\n",
    "e = int(input(\"dasdasd\"))\n",
    "random_number_gererator(e)\n",
    "print(lists)"
   ]
  },
  {
   "cell_type": "code",
   "execution_count": 18,
   "metadata": {},
   "outputs": [],
   "source": [
    "f = open(\"myfile.txt\", \"w\")\n",
    "f.write(\"hello \\n\")\n",
    "f.write(\"trongmt \\n\")\n",
    "f.close()\n"
   ]
  },
  {
   "cell_type": "code",
   "execution_count": null,
   "metadata": {},
   "outputs": [],
   "source": [
    "f = open(\"myfile.txt\", \"a\")\n",
    "f.write(\"append work \\n\")\n",
    "f.close()\n",
    "f = open(\"myfile.txt\", \"r\")\n",
    "f.read()\n",
    "f.close()"
   ]
  },
  {
   "cell_type": "code",
   "execution_count": null,
   "metadata": {},
   "outputs": [],
   "source": [
    "with open(\"myfile.txt\", \"r+\") as f:\n",
    "    content = f.read()\n",
    "    print(content)"
   ]
  },
  {
   "cell_type": "code",
   "execution_count": null,
   "metadata": {},
   "outputs": [],
   "source": [
    "with open(\"myfile.txt\") as f:\n",
    "    for line in f:\n",
    "        print(line)"
   ]
  },
  {
   "cell_type": "code",
   "execution_count": 36,
   "metadata": {},
   "outputs": [
    {
     "name": "stdout",
     "output_type": "stream",
     "text": [
      "['24', 'Jaquelin', 'Pogue', 'jpoguen@unc.edu', 'Female', '223.104.129.174']\n"
     ]
    }
   ],
   "source": [
    "import csv\n",
    "with open(\"MOCK_DATA.csv\", 'r') as f:\n",
    "    mock_data_reader = csv.reader(f)\n",
    "    line_count = 1\n",
    "    data = '';\n",
    "    for row in mock_data_reader:\n",
    "        if line_count > 1:\n",
    "            a = ''\n",
    "        line_count += 1\n",
    "        if line_count == 26:\n",
    "            data = row\n",
    "print(data)"
   ]
  },
  {
   "cell_type": "code",
   "execution_count": 37,
   "metadata": {},
   "outputs": [],
   "source": [
    "import csv\n",
    "with open(\"example.csv\", 'w') as f:\n",
    "    example_write_data = csv.writer(f)\n",
    "    example_write_data.writerow(['name', 'age'])\n",
    "    example_write_data.writerow(['Steven', 25])"
   ]
  },
  {
   "cell_type": "code",
   "execution_count": 42,
   "metadata": {},
   "outputs": [],
   "source": [
    "import csv\n",
    "with open(\"people.csv\", 'w') as f:\n",
    "    fields = ['name', 'age']\n",
    "    people_writer = csv.DictWriter(f, fieldnames=fields)\n",
    "    people_writer.writeheader();\n",
    "    people_writer.writerows([{'name':'trongmt', 'age':'32'}])"
   ]
  },
  {
   "cell_type": "code",
   "execution_count": 3,
   "metadata": {},
   "outputs": [
    {
     "name": "stdout",
     "output_type": "stream",
     "text": [
      "array('d', [1.2, 3.4, 5.6])\n"
     ]
    },
    {
     "data": {
      "text/plain": [
       "array.array"
      ]
     },
     "execution_count": 3,
     "metadata": {},
     "output_type": "execute_result"
    }
   ],
   "source": [
    "import numpy as np\n",
    "import array as arr\n",
    "\n",
    "list1 = [1,2,3]\n",
    "array_1 = np.array(list1)\n",
    "a = arr.array('d', [1.2, 3.4, 5.6])\n",
    "print(a)\n",
    "type(array_1)\n",
    "type(a)\n"
   ]
  },
  {
   "cell_type": "code",
   "execution_count": 16,
   "metadata": {},
   "outputs": [
    {
     "name": "stdout",
     "output_type": "stream",
     "text": [
      "[1 2 3 4 5]\n",
      "Sine:  [ 0.84147098  0.90929743  0.14112001 -0.7568025  -0.95892427]\n",
      "base-10 logarithm:  [0.         0.69314718 1.09861229 1.38629436 1.60943791]\n"
     ]
    }
   ],
   "source": [
    "list_5 = [i for i in range(1,6)]\n",
    "list_5= np.array(list_5)\n",
    "print(list_5)\n",
    "print(\"Sine: \", np.sin(list_5))\n",
    "print('base-10 logarithm: ', np.log(list_5))"
   ]
  },
  {
   "cell_type": "code",
   "execution_count": 20,
   "metadata": {},
   "outputs": [
    {
     "name": "stdout",
     "output_type": "stream",
     "text": [
      "[array([ 0,  2,  4,  6,  8, 10])]\n",
      "number spaced apart by 2 [  5  17  29  41  53  65  77  89 101 113 125 137 149 161 173 185 197]\n",
      "11 linearly spaced number between 1 and 5 [1.         1.36363636 1.72727273 2.09090909 2.45454545 2.81818182\n",
      " 3.18181818 3.54545455 3.90909091 4.27272727 4.63636364 5.        ]\n"
     ]
    }
   ],
   "source": [
    "import numpy as np\n",
    "list6 = [np.arange(0,12,2)]\n",
    "print(list6)\n",
    "print(\"number spaced apart by 2\", np.arange(5,200, 12))\n",
    "\n",
    "print('11 linearly spaced number between 1 and 5', np.linspace(1,5,12))"
   ]
  },
  {
   "cell_type": "code",
   "execution_count": 21,
   "metadata": {},
   "outputs": [
    {
     "name": "stdout",
     "output_type": "stream",
     "text": [
      "matrix [[3 3 2 4]\n",
      " [4 8 2 1]\n",
      " [1 5 8 5]\n",
      " [5 1 7 7]]\n"
     ]
    }
   ],
   "source": [
    "import numpy as np\n",
    "print(\"matrix\", np.random.randint(low = 1,high = 10, size=(4,4)))"
   ]
  },
  {
   "cell_type": "code",
   "execution_count": 27,
   "metadata": {},
   "outputs": [
    {
     "data": {
      "text/plain": [
       "array([32, 45, 21, 91, 61, 82, 72, 58, 98, 22, 28, 99, 32, 60, 60, 37, 16,\n",
       "       52, 75, 50, 82, 20, 66, 43, 99, 17, 30, 24, 38, 23])"
      ]
     },
     "execution_count": 27,
     "metadata": {},
     "output_type": "execute_result"
    }
   ],
   "source": [
    "a = np.random.randint(1,100,30)\n",
    "b = a.reshape(2,3,5)\n",
    "c = a.reshape(6,5)\n",
    "b_float = b.ravel()\n",
    "b_float"
   ]
  },
  {
   "cell_type": "code",
   "execution_count": 55,
   "metadata": {},
   "outputs": [
    {
     "name": "stdout",
     "output_type": "stream",
     "text": [
      "[[61 39 38  3 36]\n",
      " [88 43 38 19 91]\n",
      " [51 67 28 34 75]]\n"
     ]
    }
   ],
   "source": [
    "a = np.random.randint(1,100,30)\n",
    "b = a.reshape(2,3,5)\n",
    "print(b[1])"
   ]
  },
  {
   "cell_type": "code",
   "execution_count": 67,
   "metadata": {},
   "outputs": [
    {
     "name": "stdout",
     "output_type": "stream",
     "text": [
      "[[82 24 65 59 43]\n",
      " [41 57 45 23 17]\n",
      " [27 85 33 86 68]]\n",
      "element greater than 50 [82 65 59 57 85 86 68]\n",
      "45\n"
     ]
    }
   ],
   "source": [
    "matrix_1 = np.array(np.random.randint(10,100,15)).reshape(3,5)\n",
    "print(matrix_1)\n",
    "print(\"element greater than 50\", matrix_1[matrix_1> 50])\n",
    "print(matrix_1[1][2])"
   ]
  },
  {
   "cell_type": "code",
   "execution_count": 68,
   "metadata": {},
   "outputs": [
    {
     "name": "stdout",
     "output_type": "stream",
     "text": [
      "Addition [[103 160  59 188 134]\n",
      " [104  76 189  89  91]\n",
      " [149 113 134 105  81]]\n"
     ]
    }
   ],
   "source": [
    "matrix_1 = np.array(np.random.randint(10,100,15)).reshape(3,5)\n",
    "matrix_2 = np.array(np.random.randint(10,100,15)).reshape(3,5)\n",
    "print(\"Addition\", matrix_1 + matrix_2)"
   ]
  },
  {
   "cell_type": "code",
   "execution_count": 76,
   "metadata": {},
   "outputs": [
    {
     "name": "stdout",
     "output_type": "stream",
     "text": [
      "Maxtrix a \n",
      " [[1 2]\n",
      " [3 4]]\n",
      "Maxtrix b \n",
      " [[5 6]\n",
      " [7 8]]\n",
      "Maxtrix vertical [[1 2]\n",
      " [3 4]\n",
      " [5 6]\n",
      " [7 8]]\n",
      "Maxtrix horizontal [[1 2 5 6]\n",
      " [3 4 7 8]]\n"
     ]
    }
   ],
   "source": [
    "a = np.array([[1,2],[3,4]])\n",
    "b = np.array([[5,6],[7,8]])\n",
    "print(\"Maxtrix a \\n\", a)\n",
    "print(\"Maxtrix b \\n\", b)\n",
    "print(\"Maxtrix vertical\", np.vstack((a,b)))\n",
    "print(\"Maxtrix horizontal\", np.hstack((a,b)))"
   ]
  },
  {
   "cell_type": "code",
   "execution_count": 77,
   "metadata": {},
   "outputs": [
    {
     "name": "stdout",
     "output_type": "stream",
     "text": [
      "0    10\n",
      "1    20\n",
      "2    30\n",
      "dtype: int64\n"
     ]
    }
   ],
   "source": [
    "import pandas as pd\n",
    "labels = ['a','b', 'c']\n",
    "my_data = [10,20,30]\n",
    "\n",
    "series_1 = pd.Series(data=my_data)\n",
    "print(series_1)"
   ]
  },
  {
   "cell_type": "code",
   "execution_count": null,
   "metadata": {},
   "outputs": [],
   "source": [
    "matrix_data = np.random.randint(1,10,20).reshape(5,4)\n",
    "matrix_data\n",
    "row_labels = ['A','B','C', 'D', 'E']\n",
    "column_headings = ['W','X', 'Y', 'Z']\n",
    "df = pd.DataFrame(data=matrix_data, index=row_labels, columns=column_headings)\n",
    "print(\"the data frame look like\", '-'*40,sep='')\n",
    "print(df)\n",
    "\n",
    "d = {'a': [10,20], 'b':[30,40], 'c':[50,60]}\n",
    "df2 = pd.DataFrame(data=d,index=['X', 'Y'])\n",
    "df2['trongmt'] = 'ahihi'\n",
    "print(df2)"
   ]
  },
  {
   "cell_type": "code",
   "execution_count": 89,
   "metadata": {},
   "outputs": [
    {
     "name": "stdout",
     "output_type": "stream",
     "text": [
      "    W   X   Y   Z\n",
      "0  50   7  59  53\n",
      "1  37  54  40  50\n",
      "2  23  56   6  59\n",
      "3  85  24  81  99\n",
      "4  28  35  24  99\n",
      "     W   X   Y   Z\n",
      "23  89   2  78   7\n",
      "24  16  77  35  63\n"
     ]
    }
   ],
   "source": [
    "matrix_data = np.random.randint(1,100,100).reshape(25,4)\n",
    "column_headings = ['W', 'X', 'Y', 'Z']\n",
    "df = pd.DataFrame(data=matrix_data, columns=column_headings)\n",
    "\n",
    "print(df.head(5))\n",
    "print(df.tail(2))"
   ]
  },
  {
   "cell_type": "code",
   "execution_count": 93,
   "metadata": {},
   "outputs": [
    {
     "name": "stdout",
     "output_type": "stream",
     "text": [
      "0     7\n",
      "1    54\n",
      "2    56\n",
      "3    24\n",
      "4    35\n",
      "Name: X, dtype: int32\n",
      "    X   Z\n",
      "0   7  53\n",
      "1  54  50\n",
      "2  56  59\n",
      "3  24  99\n",
      "4  35  99\n"
     ]
    }
   ],
   "source": [
    "print(df['X'].head(5))\n",
    "print(df[['X','Z']].head(5))"
   ]
  },
  {
   "cell_type": "code",
   "execution_count": 97,
   "metadata": {},
   "outputs": [
    {
     "name": "stdout",
     "output_type": "stream",
     "text": [
      "   W  X  Y  Z\n",
      "A  6  2  4  2\n",
      "B  4  4  3  6\n",
      "C  5  4  8  4\n",
      "D  9  7  4  3\n",
      "E  5  3  3  8\n",
      "   W  X  Y  Z\n",
      "C  5  4  8  4\n",
      "   W  X  Y  Z\n",
      "C  5  4  8  4\n",
      "   W  X  Y  Z\n",
      "B  4  4  3  6\n",
      "C  5  4  8  4\n"
     ]
    }
   ],
   "source": [
    "matrix_data = np.random.randint(1,10,20).reshape(5,4)\n",
    "matrix_data\n",
    "row_labels = ['A','B','C', 'D', 'E']\n",
    "column_headings = ['W','X', 'Y', 'Z']\n",
    "df = pd.DataFrame(data=matrix_data, index=row_labels, columns=column_headings)\n",
    "print(df)\n",
    "print(df.loc[['C']])\n",
    "print(df.iloc[[2]])\n",
    "print(df.iloc[[1,2]])"
   ]
  },
  {
   "cell_type": "code",
   "execution_count": 126,
   "metadata": {},
   "outputs": [
    {
     "data": {
      "text/html": [
       "<div>\n",
       "<style scoped>\n",
       "    .dataframe tbody tr th:only-of-type {\n",
       "        vertical-align: middle;\n",
       "    }\n",
       "\n",
       "    .dataframe tbody tr th {\n",
       "        vertical-align: top;\n",
       "    }\n",
       "\n",
       "    .dataframe thead th {\n",
       "        text-align: right;\n",
       "    }\n",
       "</style>\n",
       "<table border=\"1\" class=\"dataframe\">\n",
       "  <thead>\n",
       "    <tr style=\"text-align: right;\">\n",
       "      <th></th>\n",
       "      <th>W</th>\n",
       "      <th>X</th>\n",
       "      <th>Y</th>\n",
       "      <th>Z</th>\n",
       "    </tr>\n",
       "  </thead>\n",
       "  <tbody>\n",
       "    <tr>\n",
       "      <th>A</th>\n",
       "      <td>6</td>\n",
       "      <td>2</td>\n",
       "      <td>4</td>\n",
       "      <td>2</td>\n",
       "    </tr>\n",
       "    <tr>\n",
       "      <th>B</th>\n",
       "      <td>4</td>\n",
       "      <td>4</td>\n",
       "      <td>3</td>\n",
       "      <td>6</td>\n",
       "    </tr>\n",
       "    <tr>\n",
       "      <th>C</th>\n",
       "      <td>5</td>\n",
       "      <td>4</td>\n",
       "      <td>8</td>\n",
       "      <td>4</td>\n",
       "    </tr>\n",
       "    <tr>\n",
       "      <th>D</th>\n",
       "      <td>9</td>\n",
       "      <td>7</td>\n",
       "      <td>4</td>\n",
       "      <td>3</td>\n",
       "    </tr>\n",
       "    <tr>\n",
       "      <th>E</th>\n",
       "      <td>5</td>\n",
       "      <td>3</td>\n",
       "      <td>3</td>\n",
       "      <td>8</td>\n",
       "    </tr>\n",
       "  </tbody>\n",
       "</table>\n",
       "</div>"
      ],
      "text/plain": [
       "   W  X  Y  Z\n",
       "A  6  2  4  2\n",
       "B  4  4  3  6\n",
       "C  5  4  8  4\n",
       "D  9  7  4  3\n",
       "E  5  3  3  8"
      ]
     },
     "execution_count": 126,
     "metadata": {},
     "output_type": "execute_result"
    }
   ],
   "source": [
    "df['NEW'] = 'ahihi'\n",
    "df1 = df.drop('NEW', axis=1)\n",
    "df1"
   ]
  },
  {
   "cell_type": "code",
   "execution_count": 1,
   "metadata": {},
   "outputs": [
    {
     "data": {
      "image/png": "[encoded data removed]",
      "text/plain": [
       "<Figure size 432x288 with 1 Axes>"
      ]
     },
     "metadata": {
      "needs_background": "light"
     },
     "output_type": "display_data"
    }
   ],
   "source": [
    "import matplotlib.pyplot as plt\n",
    "people = ['Ann', 'Brandon', 'Chen', 'David', 'Emily', 'Farook', 'Gagan', 'Hamish', 'Imran', 'Joseph', 'Katherine', 'Lily']\n",
    "age =[21, 12, 32, 45, 37, 18, 28, 52, 5, 40, 48, 15]\n",
    "weight =[55, 35, 77, 68, 70, 60, 72, 69, 18, 65, 82, 48]\n",
    "height =[160, 135, 170, 165, 173, 168, 175, 159, 105, 171, 155, 158]\n",
    "\n",
    "plt.scatter(age, weight)\n",
    "plt.show()\n",
    "\n"
   ]
  },
  {
   "cell_type": "code",
   "execution_count": 11,
   "metadata": {},
   "outputs": [
    {
     "data": {
      "image/png": "[encoded data removed]",
      "text/plain": [
       "<Figure size 576x432 with 1 Axes>"
      ]
     },
     "metadata": {
      "needs_background": "light"
     },
     "output_type": "display_data"
    }
   ],
   "source": [
    "plt.figure(figsize=(8,6))\n",
    "plt.title(\"Plot of Age vs Weight (inkgs)\", fontsize=20)\n",
    "plt.xlabel('Age(\"years\"', fontsize=16)\n",
    "plt.ylabel(\"Weight (kgs)\", fontsize=16)\n",
    "plt.grid(True)\n",
    "plt.ylim(0,100)\n",
    "plt.xticks([i*5 for i in range(12)], fontsize=15)\n",
    "plt.yticks(fontsize=15)\n",
    "plt.scatter(x=age,y=weight, c='green', s = 150, edgecolors='r')\n",
    "plt.text(x=20,y=85, s=\"Weight after 18-20 years of age\", fontsize=15)\n",
    "plt.vlines(x=20,ymin=0,ymax=80,linestyles='dashed',color='blue', lw=3)\n",
    "plt.legend(['Weigt in kgs'],loc = 2, fontsize=12)\n",
    "plt.show()"
   ]
  },
  {
   "cell_type": "code",
   "execution_count": 25,
   "metadata": {},
   "outputs": [
    {
     "name": "stdout",
     "output_type": "stream",
     "text": [
      "(12, 4)\n",
      "12\n",
      "353\n",
      "29.416666666666668\n",
      "30.0\n",
      "41.25\n"
     ]
    }
   ],
   "source": [
    "import pandas as pd\n",
    "people_dict = {\n",
    "    'People': people,\n",
    "    'Age': age,\n",
    "    'Weight': weight,\n",
    "    'Height': height\n",
    "}\n",
    "people_df = pd.DataFrame(data=people_dict)\n",
    "# print(people_df)\n",
    "print(people_df.shape)\n",
    "print(people_df['Age'].count())\n",
    "print(people_df['Age'].sum())\n",
    "print(people_df['Age'].mean())\n",
    "print(people_df['Age'].median())\n",
    "pcnt_75 = np.percentile(people_df['Age'],75)\n",
    "print(pcnt_75)"
   ]
  }
 ],
 "metadata": {
  "interpreter": {
   "hash": "d3e10ef16274dd72e574b8fa73b58450b957d8421a2901baded3cca26fcf5dda"
  },
  "kernelspec": {
   "display_name": "Python 3.10.4 64-bit",
   "language": "python",
   "name": "python3"
  },
  "language_info": {
   "codemirror_mode": {
    "name": "ipython",
    "version": 3
   },
   "file_extension": ".py",
   "mimetype": "text/x-python",
   "name": "python",
   "nbconvert_exporter": "python",
   "pygments_lexer": "ipython3",
   "version": "3.10.4"
  },
  "orig_nbformat": 4
 },
 "nbformat": 4,
 "nbformat_minor": 2
}
