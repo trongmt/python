{
 "cells": [
  {
   "cell_type": "markdown",
   "metadata": {},
   "source": [
    "# Bai tap buoi 2"
   ]
  },
  {
   "cell_type": "code",
   "execution_count": 4,
   "metadata": {},
   "outputs": [
    {
     "name": "stdout",
     "output_type": "stream",
     "text": [
      "<class 'int'> 49\n",
      "<class 'int'> -35\n"
     ]
    }
   ],
   "source": [
    "# Check kieu\n",
    "integer = 49\n",
    "print(type(integer), integer)\n",
    "\n",
    "nagetive_integer = -35\n",
    "print(type(nagetive_integer), nagetive_integer)"
   ]
  },
  {
   "cell_type": "code",
   "execution_count": 3,
   "metadata": {},
   "outputs": [
    {
     "name": "stdout",
     "output_type": "stream",
     "text": [
      "<class 'float'> 3.141592653589793\n"
     ]
    }
   ],
   "source": [
    "import math\n",
    "\n",
    "print(type(math.pi), math.pi)"
   ]
  },
  {
   "cell_type": "code",
   "execution_count": 2,
   "metadata": {},
   "outputs": [
    {
     "name": "stdout",
     "output_type": "stream",
     "text": [
      "9462.451170963423\n"
     ]
    }
   ],
   "source": [
    "# Tinh lai suat\n",
    "p = 10000\n",
    "r = 0.055\n",
    "m = 6\n",
    "\n",
    "i = p*(1-(r/m))**m\n",
    "print(i)"
   ]
  },
  {
   "cell_type": "markdown",
   "metadata": {},
   "source": [
    "## Bai tap slide 16: Phep Toan"
   ]
  },
  {
   "cell_type": "code",
   "execution_count": 3,
   "metadata": {},
   "outputs": [
    {
     "name": "stdout",
     "output_type": "stream",
     "text": [
      "Years:  5.53972602739726\n",
      "Weeks:  28\n",
      "Day:  1\n"
     ]
    }
   ],
   "source": [
    "days = int(input('Numbers of days: '))\n",
    "years = days / 365\n",
    "weeks = (days % 365) // 7\n",
    "day = days % 365 % 7\n",
    "\n",
    "print('Years: ', years)\n",
    "print('Weeks: ', weeks)\n",
    "print('Day: ', day)"
   ]
  },
  {
   "cell_type": "code",
   "execution_count": 4,
   "metadata": {},
   "outputs": [
    {
     "name": "stdout",
     "output_type": "stream",
     "text": [
      "There are too many cats here.\n"
     ]
    }
   ],
   "source": [
    "pets = ('cat', 'cat', 'cat', 'dog', 'horse')\n",
    "\n",
    "c = pets.count('cat')\n",
    "d = pets.__len__()\n",
    "\n",
    "if c/d >= 0.5:\n",
    "    print('There are too many cats here.')\n",
    "else:\n",
    "    print('Everything is good')"
   ]
  }
 ],
 "metadata": {
  "interpreter": {
   "hash": "3d597f4c481aa0f25dceb95d2a0067e73c0966dcbd003d741d821a7208527ecf"
  },
  "kernelspec": {
   "display_name": "Python 3.8.5 ('base')",
   "language": "python",
   "name": "python3"
  },
  "language_info": {
   "codemirror_mode": {
    "name": "ipython",
    "version": 3
   },
   "file_extension": ".py",
   "mimetype": "text/x-python",
   "name": "python",
   "nbconvert_exporter": "python",
   "pygments_lexer": "ipython3",
   "version": "3.8.5"
  },
  "orig_nbformat": 4
 },
 "nbformat": 4,
 "nbformat_minor": 2
}
