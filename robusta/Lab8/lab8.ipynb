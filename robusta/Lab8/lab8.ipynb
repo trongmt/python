{
 "cells": [
  {
   "cell_type": "code",
   "execution_count": 2,
   "metadata": {},
   "outputs": [
    {
     "name": "stdout",
     "output_type": "stream",
     "text": [
      "[0, 0, 0, 1, 0, 3, 3, 1, 8, 0, 3, 0, 2, 2, 0, 10, 15, 2, 8]\n"
     ]
    }
   ],
   "source": [
    "from lab8 import *\n",
    "\n",
    "abc = myFunc()\n",
    "\n",
    "result = abc.random_number_generator(19)\n",
    "print(result)"
   ]
  },
  {
   "cell_type": "code",
   "execution_count": 1,
   "metadata": {},
   "outputs": [
    {
     "name": "stdout",
     "output_type": "stream",
     "text": [
      "John\n",
      "36\n"
     ]
    }
   ],
   "source": [
    "from lab8 import *\n",
    "\n",
    "p1 = Person(\"John\", 36)\n",
    "\n",
    "print(p1.name)\n",
    "print(p1.age)"
   ]
  },
  {
   "cell_type": "code",
   "execution_count": 6,
   "metadata": {},
   "outputs": [
    {
     "name": "stdout",
     "output_type": "stream",
     "text": [
      "['id', 'first_name', 'last_name', 'email', 'gender', 'ip_address']\n",
      "['1', 'Skipton', 'Mattiacci', 'smattiacci0@berkeley.edu', 'Male', '196.4.235.14']\n",
      "['2', 'Keith', 'Rosenfelder', 'krosenfelder1@icq.com', 'Male', '26.145.67.148']\n",
      "['3', 'Helaina', 'Ind', 'hind2@japanpost.jp', 'Female', '32.201.244.49']\n",
      "['4', 'Joelly', 'Milesap', 'jmilesap3@dot.gov', 'Female', '74.199.54.89']\n",
      "['5', 'Portie', 'MacCoughan', 'pmaccoughan4@mapquest.com', 'Male', '61.150.82.117']\n",
      "['6', 'Fletcher', 'Reynold', 'freynold5@blogs.com', 'Male', '254.202.181.187']\n",
      "['7', 'Arnaldo', 'Batch', 'abatch6@umich.edu', 'Male', '137.231.46.255']\n",
      "['8', 'Galven', 'Turban', 'gturban7@google.es', 'Male', '180.52.139.226']\n"
     ]
    }
   ],
   "source": [
    "with open('MOCK_DATA.csv', 'r') as f:\n",
    "    mock_data_reader = csv.reader(f)\n",
    "    line_count = 1\n",
    "    for row in mock_data_reader:\n",
    "        if line_count < 10:\n",
    "            print(row)\n",
    "        line_count += 1"
   ]
  },
  {
   "cell_type": "code",
   "execution_count": 1,
   "metadata": {},
   "outputs": [
    {
     "name": "stdout",
     "output_type": "stream",
     "text": [
      "['id', 'first_name', 'last_name', 'email', 'gender', 'ip_address']\n",
      "['1', 'Skipton', 'Mattiacci', 'smattiacci0@berkeley.edu', 'Male', '196.4.235.14']\n",
      "['2', 'Keith', 'Rosenfelder', 'krosenfelder1@icq.com', 'Male', '26.145.67.148']\n",
      "['3', 'Helaina', 'Ind', 'hind2@japanpost.jp', 'Female', '32.201.244.49']\n",
      "['4', 'Joelly', 'Milesap', 'jmilesap3@dot.gov', 'Female', '74.199.54.89']\n",
      "['5', 'Portie', 'MacCoughan', 'pmaccoughan4@mapquest.com', 'Male', '61.150.82.117']\n",
      "['6', 'Fletcher', 'Reynold', 'freynold5@blogs.com', 'Male', '254.202.181.187']\n",
      "['7', 'Arnaldo', 'Batch', 'abatch6@umich.edu', 'Male', '137.231.46.255']\n",
      "['8', 'Galven', 'Turban', 'gturban7@google.es', 'Male', '180.52.139.226']\n"
     ]
    }
   ],
   "source": [
    "from lab8 import *\n",
    "\n",
    "rf = myFile()\n",
    "\n",
    "result = rf.readFileCSV('MOCK_DATA.csv')"
   ]
  },
  {
   "cell_type": "code",
   "execution_count": 1,
   "metadata": {},
   "outputs": [
    {
     "name": "stdout",
     "output_type": "stream",
     "text": [
      "['name', 'age']\n",
      "['Steven', '25']\n"
     ]
    }
   ],
   "source": [
    "from lab8 import *\n",
    "\n",
    "rf = myFile()\n",
    "\n",
    "result = rf.writeRowCSV('SAMPLE_WRITE.csv')\n",
    "\n",
    "result = rf.readFileCSV('SAMPLE_WRITE.csv')"
   ]
  },
  {
   "cell_type": "code",
   "execution_count": 1,
   "metadata": {},
   "outputs": [
    {
     "name": "stdout",
     "output_type": "stream",
     "text": [
      "['name', 'age']\n",
      "['Steven', '1000']\n"
     ]
    }
   ],
   "source": [
    "from lab8 import *\n",
    "\n",
    "rf = myFile()\n",
    "\n",
    "result = rf.dictWriterCSV('PEOPLE.csv')\n",
    "\n",
    "result = rf.readFileCSV('PEOPLE.csv')"
   ]
  }
 ],
 "metadata": {
  "interpreter": {
   "hash": "3d597f4c481aa0f25dceb95d2a0067e73c0966dcbd003d741d821a7208527ecf"
  },
  "kernelspec": {
   "display_name": "Python 3.8.5 ('base')",
   "language": "python",
   "name": "python3"
  },
  "language_info": {
   "codemirror_mode": {
    "name": "ipython",
    "version": 3
   },
   "file_extension": ".py",
   "mimetype": "text/x-python",
   "name": "python",
   "nbconvert_exporter": "python",
   "pygments_lexer": "ipython3",
   "version": "3.8.5"
  },
  "orig_nbformat": 4
 },
 "nbformat": 4,
 "nbformat_minor": 2
}
